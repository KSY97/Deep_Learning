{
  "nbformat": 4,
  "nbformat_minor": 0,
  "metadata": {
    "colab": {
      "name": "TransferLearning.ipynb",
      "provenance": []
    },
    "kernelspec": {
      "name": "python3",
      "display_name": "Python 3"
    },
    "language_info": {
      "name": "python"
    },
    "accelerator": "GPU",
    "gpuClass": "standard"
  },
  "cells": [
    {
      "cell_type": "code",
      "execution_count": null,
      "metadata": {
        "id": "2O_pdrQmNYzx"
      },
      "outputs": [],
      "source": [
        "from tensorflow.keras.preprocessing.image import ImageDataGenerator\n",
        "from tensorflow.keras import Input, models, layers, optimizers, metrics\n",
        "from tensorflow.keras.layers import Dense, Flatten, Activation, Dropout\n",
        "from tensorflow.keras.applications import VGG16\n",
        "from tensorflow.keras.callbacks import EarlyStopping\n",
        "\n",
        "import matplotlib.pyplot as plt\n",
        "import numpy as np"
      ]
    },
    {
      "cell_type": "code",
      "source": [
        "!git clone https://github.com/taehojo/data-ch20.git\n",
        "\n",
        "train_datagen = ImageDataGenerator(rescale = 1./255,\n",
        "                                   horizontal_flip = True,\n",
        "                                   width_shift_range=0.1,\n",
        "                                   height_shift_range=0.1)"
      ],
      "metadata": {
        "colab": {
          "base_uri": "https://localhost:8080/"
        },
        "id": "e3ldppfmPQDu",
        "outputId": "52ed7dda-9c2e-4943-b172-4109337262ab"
      },
      "execution_count": null,
      "outputs": [
        {
          "output_type": "stream",
          "name": "stdout",
          "text": [
            "Cloning into 'data-ch20'...\n",
            "remote: Enumerating objects: 265, done.\u001b[K\n",
            "remote: Counting objects: 100% (265/265), done.\u001b[K\n",
            "remote: Compressing objects: 100% (265/265), done.\u001b[K\n",
            "remote: Total 265 (delta 0), reused 265 (delta 0), pack-reused 0\u001b[K\n",
            "Receiving objects: 100% (265/265), 1.86 MiB | 36.66 MiB/s, done.\n"
          ]
        }
      ]
    },
    {
      "cell_type": "code",
      "source": [
        "train_generator = train_datagen.flow_from_directory(\n",
        "    './data-ch20/train',\n",
        "    target_size=(150, 150),\n",
        "    batch_size=5,\n",
        "    class_mode='binary'\n",
        ")"
      ],
      "metadata": {
        "colab": {
          "base_uri": "https://localhost:8080/"
        },
        "id": "_wScn7zHQHWL",
        "outputId": "caf49068-4f64-455c-9715-a969e5ca766c"
      },
      "execution_count": null,
      "outputs": [
        {
          "output_type": "stream",
          "name": "stdout",
          "text": [
            "Found 160 images belonging to 2 classes.\n"
          ]
        }
      ]
    },
    {
      "cell_type": "code",
      "source": [
        "test_datagen = ImageDataGenerator(rescale=1./255)\n",
        "\n",
        "test_generator = test_datagen.flow_from_directory(\n",
        "    './data-ch20/test',\n",
        "    target_size=(150,150),\n",
        "    batch_size=5,\n",
        "    class_mode='binary'\n",
        ")"
      ],
      "metadata": {
        "colab": {
          "base_uri": "https://localhost:8080/"
        },
        "id": "HJMZ9FGhQhgb",
        "outputId": "6830c344-22d1-4fda-e92f-9b2000b304a9"
      },
      "execution_count": null,
      "outputs": [
        {
          "output_type": "stream",
          "name": "stdout",
          "text": [
            "Found 120 images belonging to 2 classes.\n"
          ]
        }
      ]
    },
    {
      "cell_type": "code",
      "source": [
        "transfer_model = VGG16(weights='imagenet', include_top=False, input_shape=(150,150,3))\n",
        "transfer_model.trainable = False"
      ],
      "metadata": {
        "colab": {
          "base_uri": "https://localhost:8080/"
        },
        "id": "WSILFGkGQkSH",
        "outputId": "52303426-4f76-47c7-8281-920a749b23c4"
      },
      "execution_count": null,
      "outputs": [
        {
          "output_type": "stream",
          "name": "stdout",
          "text": [
            "Downloading data from https://storage.googleapis.com/tensorflow/keras-applications/vgg16/vgg16_weights_tf_dim_ordering_tf_kernels_notop.h5\n",
            "58892288/58889256 [==============================] - 0s 0us/step\n",
            "58900480/58889256 [==============================] - 1s 0us/step\n"
          ]
        }
      ]
    },
    {
      "cell_type": "code",
      "source": [
        "finetune_model = models.Sequential()\n",
        "finetune_model.add(transfer_model)\n",
        "finetune_model.add(Flatten())\n",
        "finetune_model.add(Dense(64))\n",
        "finetune_model.add(Activation('relu'))\n",
        "finetune_model.add(Dropout(0.5))\n",
        "finetune_model.add(Dense(1))\n",
        "finetune_model.add(Activation('sigmoid'))\n",
        "finetune_model.summary()"
      ],
      "metadata": {
        "colab": {
          "base_uri": "https://localhost:8080/"
        },
        "id": "xv51gq2wQ3Ot",
        "outputId": "c9e5648a-f842-4302-dc9d-e5737285e16d"
      },
      "execution_count": null,
      "outputs": [
        {
          "output_type": "stream",
          "name": "stdout",
          "text": [
            "Model: \"sequential\"\n",
            "_________________________________________________________________\n",
            " Layer (type)                Output Shape              Param #   \n",
            "=================================================================\n",
            " vgg16 (Functional)          (None, 4, 4, 512)         14714688  \n",
            "                                                                 \n",
            " flatten (Flatten)           (None, 8192)              0         \n",
            "                                                                 \n",
            " dense (Dense)               (None, 64)                524352    \n",
            "                                                                 \n",
            " activation (Activation)     (None, 64)                0         \n",
            "                                                                 \n",
            " dropout (Dropout)           (None, 64)                0         \n",
            "                                                                 \n",
            " dense_1 (Dense)             (None, 1)                 65        \n",
            "                                                                 \n",
            " activation_1 (Activation)   (None, 1)                 0         \n",
            "                                                                 \n",
            "=================================================================\n",
            "Total params: 15,239,105\n",
            "Trainable params: 524,417\n",
            "Non-trainable params: 14,714,688\n",
            "_________________________________________________________________\n"
          ]
        }
      ]
    },
    {
      "cell_type": "code",
      "source": [
        "finetune_model.compile(loss='binary_crossentropy', optimizer=optimizers.Adam(learning_rate=0.0002), metrics=['accuracy'])\n",
        "\n",
        "esc = EarlyStopping(monitor='val_loss', patience=5)\n",
        "\n",
        "history = finetune_model.fit(\n",
        "    train_generator,\n",
        "    epochs=20,\n",
        "    validation_data=test_generator,\n",
        "    validation_steps=10,\n",
        "    callbacks=[esc]\n",
        ")"
      ],
      "metadata": {
        "colab": {
          "base_uri": "https://localhost:8080/"
        },
        "id": "lE3WHTG4RZ-i",
        "outputId": "d044bae8-31cd-4421-8ad3-66d4d23cb7c6"
      },
      "execution_count": null,
      "outputs": [
        {
          "output_type": "stream",
          "name": "stdout",
          "text": [
            "Epoch 1/20\n",
            "32/32 [==============================] - 16s 52ms/step - loss: 0.8155 - accuracy: 0.5688 - val_loss: 0.6470 - val_accuracy: 0.5400\n",
            "Epoch 2/20\n",
            "32/32 [==============================] - 1s 44ms/step - loss: 0.6089 - accuracy: 0.6812 - val_loss: 0.6312 - val_accuracy: 0.5400\n",
            "Epoch 3/20\n",
            "32/32 [==============================] - 2s 48ms/step - loss: 0.5436 - accuracy: 0.7688 - val_loss: 0.4986 - val_accuracy: 0.9000\n",
            "Epoch 4/20\n",
            "32/32 [==============================] - 1s 45ms/step - loss: 0.4998 - accuracy: 0.8125 - val_loss: 0.4575 - val_accuracy: 0.8800\n",
            "Epoch 5/20\n",
            "32/32 [==============================] - 1s 44ms/step - loss: 0.4581 - accuracy: 0.8438 - val_loss: 0.4024 - val_accuracy: 0.9400\n",
            "Epoch 6/20\n",
            "32/32 [==============================] - 1s 45ms/step - loss: 0.4498 - accuracy: 0.8313 - val_loss: 0.4257 - val_accuracy: 0.8600\n",
            "Epoch 7/20\n",
            "32/32 [==============================] - 1s 45ms/step - loss: 0.3969 - accuracy: 0.8625 - val_loss: 0.3548 - val_accuracy: 0.8800\n",
            "Epoch 8/20\n",
            "32/32 [==============================] - 1s 45ms/step - loss: 0.4124 - accuracy: 0.7937 - val_loss: 0.3151 - val_accuracy: 0.9200\n",
            "Epoch 9/20\n",
            "32/32 [==============================] - 1s 45ms/step - loss: 0.3641 - accuracy: 0.8875 - val_loss: 0.3430 - val_accuracy: 0.9000\n",
            "Epoch 10/20\n",
            "32/32 [==============================] - 1s 44ms/step - loss: 0.3335 - accuracy: 0.8813 - val_loss: 0.2880 - val_accuracy: 0.9200\n",
            "Epoch 11/20\n",
            "32/32 [==============================] - 1s 44ms/step - loss: 0.3123 - accuracy: 0.9062 - val_loss: 0.2713 - val_accuracy: 0.9600\n",
            "Epoch 12/20\n",
            "32/32 [==============================] - 1s 45ms/step - loss: 0.3085 - accuracy: 0.9250 - val_loss: 0.3017 - val_accuracy: 0.8600\n",
            "Epoch 13/20\n",
            "32/32 [==============================] - 1s 45ms/step - loss: 0.2400 - accuracy: 0.9375 - val_loss: 0.2835 - val_accuracy: 0.9000\n",
            "Epoch 14/20\n",
            "32/32 [==============================] - 1s 44ms/step - loss: 0.2637 - accuracy: 0.9187 - val_loss: 0.1671 - val_accuracy: 0.9800\n",
            "Epoch 15/20\n",
            "32/32 [==============================] - 1s 45ms/step - loss: 0.2819 - accuracy: 0.8875 - val_loss: 0.2401 - val_accuracy: 0.9000\n",
            "Epoch 16/20\n",
            "32/32 [==============================] - 1s 44ms/step - loss: 0.2533 - accuracy: 0.9312 - val_loss: 0.2100 - val_accuracy: 0.9000\n",
            "Epoch 17/20\n",
            "32/32 [==============================] - 1s 45ms/step - loss: 0.2729 - accuracy: 0.9187 - val_loss: 0.1849 - val_accuracy: 0.9800\n",
            "Epoch 18/20\n",
            "32/32 [==============================] - 1s 44ms/step - loss: 0.2669 - accuracy: 0.9375 - val_loss: 0.1505 - val_accuracy: 0.9600\n",
            "Epoch 19/20\n",
            "32/32 [==============================] - 1s 45ms/step - loss: 0.2020 - accuracy: 0.9563 - val_loss: 0.2198 - val_accuracy: 0.9400\n",
            "Epoch 20/20\n",
            "32/32 [==============================] - 1s 45ms/step - loss: 0.1768 - accuracy: 0.9625 - val_loss: 0.1812 - val_accuracy: 0.9400\n"
          ]
        }
      ]
    },
    {
      "cell_type": "code",
      "source": [
        "y_vloss = history.history['val_loss']\n",
        "y_loss = history.history['loss']\n",
        "\n",
        "x_len=np.arange(len(y_loss))\n",
        "plt.plot(x_len, y_vloss, marker='.', c='red', label='Testset_loss')\n",
        "plt.plot(x_len, y_loss, marker='.', c='blue', label='Trainset_loss')\n",
        "\n",
        "plt.legend(loc='upper right')\n",
        "plt.grid()\n",
        "plt.xlabel('epoch')\n",
        "plt.ylabel('loss')\n",
        "plt.show()"
      ],
      "metadata": {
        "colab": {
          "base_uri": "https://localhost:8080/",
          "height": 279
        },
        "id": "BWajHShmSKt8",
        "outputId": "1332fef6-9c28-4ff8-c460-9aa47d5ede5d"
      },
      "execution_count": null,
      "outputs": [
        {
          "output_type": "display_data",
          "data": {
            "text/plain": [
              "<Figure size 432x288 with 1 Axes>"
            ],
            "image/png": "[encoded data removed]"
          },
          "metadata": {
            "needs_background": "light"
          }
        }
      ]
    }
  ]
}