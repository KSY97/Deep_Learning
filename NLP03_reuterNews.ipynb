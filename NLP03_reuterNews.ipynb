{
  "nbformat": 4,
  "nbformat_minor": 0,
  "metadata": {
    "colab": {
      "name": "NLP03-reuterNews.ipynb",
      "provenance": []
    },
    "kernelspec": {
      "name": "python3",
      "display_name": "Python 3"
    },
    "language_info": {
      "name": "python"
    },
    "accelerator": "GPU",
    "gpuClass": "standard"
  },
  "cells": [
    {
      "cell_type": "code",
      "execution_count": 11,
      "metadata": {
        "id": "erGk1LXg-FUJ"
      },
      "outputs": [],
      "source": [
        "from tensorflow.keras.datasets import reuters\n",
        "from tensorflow.keras.preprocessing import sequence\n",
        "from tensorflow.keras.utils import to_categorical\n",
        "from tensorflow.keras.models import Sequential\n",
        "from tensorflow.keras.layers import Embedding, Dense, LSTM\n",
        "from tensorflow.keras.callbacks import ModelCheckpoint, EarlyStopping\n",
        "\n",
        "import numpy as np\n",
        "import matplotlib.pyplot as plt"
      ]
    },
    {
      "cell_type": "code",
      "source": [
        "(X_train, y_train), (X_test, y_test) = reuters.load_data(num_words = 1000, test_split=0.2)"
      ],
      "metadata": {
        "colab": {
          "base_uri": "https://localhost:8080/",
          "height": 0
        },
        "id": "4vQrXeSI-ZyY",
        "outputId": "51553e91-c70d-4805-c7eb-836d5cb19c62"
      },
      "execution_count": 2,
      "outputs": [
        {
          "output_type": "stream",
          "name": "stdout",
          "text": [
            "Downloading data from https://storage.googleapis.com/tensorflow/tf-keras-datasets/reuters.npz\n",
            "2113536/2110848 [==============================] - 0s 0us/step\n",
            "2121728/2110848 [==============================] - 0s 0us/step\n"
          ]
        }
      ]
    },
    {
      "cell_type": "code",
      "source": [
        "category = np.max(y_train) + 1\n",
        "print(category, '카테고리')\n",
        "print(len(X_train), '학습용 뉴스 기사')\n",
        "print(len(X_test), '테스트용 뉴스 기사')\n",
        "print(X_train[0])"
      ],
      "metadata": {
        "colab": {
          "base_uri": "https://localhost:8080/",
          "height": 0
        },
        "id": "mr4iMTax-onz",
        "outputId": "596b3989-8ae0-4928-b9fe-0937e6ee5d85"
      },
      "execution_count": 3,
      "outputs": [
        {
          "output_type": "stream",
          "name": "stdout",
          "text": [
            "46 카테고리\n",
            "8982 학습용 뉴스 기사\n",
            "2246 테스트용 뉴스 기사\n",
            "[1, 2, 2, 8, 43, 10, 447, 5, 25, 207, 270, 5, 2, 111, 16, 369, 186, 90, 67, 7, 89, 5, 19, 102, 6, 19, 124, 15, 90, 67, 84, 22, 482, 26, 7, 48, 4, 49, 8, 864, 39, 209, 154, 6, 151, 6, 83, 11, 15, 22, 155, 11, 15, 7, 48, 9, 2, 2, 504, 6, 258, 6, 272, 11, 15, 22, 134, 44, 11, 15, 16, 8, 197, 2, 90, 67, 52, 29, 209, 30, 32, 132, 6, 109, 15, 17, 12]\n"
          ]
        }
      ]
    },
    {
      "cell_type": "code",
      "source": [
        "X_train = sequence.pad_sequences(X_train, maxlen = 100)\n",
        "X_test = sequence.pad_sequences(X_test, maxlen = 100)"
      ],
      "metadata": {
        "id": "XocFgYNbVupy"
      },
      "execution_count": 4,
      "outputs": []
    },
    {
      "cell_type": "code",
      "source": [
        "y_train = to_categorical(y_train)\n",
        "y_test = to_categorical(y_test)"
      ],
      "metadata": {
        "id": "jg6gw2zSWIXc"
      },
      "execution_count": 5,
      "outputs": []
    },
    {
      "cell_type": "code",
      "source": [
        "model = Sequential()\n",
        "model.add(Embedding(1000, 100))\n",
        "model.add(LSTM(100, activation='tanh'))\n",
        "model.add(Dense(46, activation='softmax'))\n",
        "model.summary()"
      ],
      "metadata": {
        "colab": {
          "base_uri": "https://localhost:8080/",
          "height": 0
        },
        "id": "xK4VS5xkWWqZ",
        "outputId": "809e4b8c-3711-4fd7-cb09-cd66e9622d26"
      },
      "execution_count": 6,
      "outputs": [
        {
          "output_type": "stream",
          "name": "stdout",
          "text": [
            "Model: \"sequential\"\n",
            "_________________________________________________________________\n",
            " Layer (type)                Output Shape              Param #   \n",
            "=================================================================\n",
            " embedding (Embedding)       (None, None, 100)         100000    \n",
            "                                                                 \n",
            " lstm (LSTM)                 (None, 100)               80400     \n",
            "                                                                 \n",
            " dense (Dense)               (None, 46)                4646      \n",
            "                                                                 \n",
            "=================================================================\n",
            "Total params: 185,046\n",
            "Trainable params: 185,046\n",
            "Non-trainable params: 0\n",
            "_________________________________________________________________\n"
          ]
        }
      ]
    },
    {
      "cell_type": "code",
      "source": [
        "model.compile(optimizer = 'adam', loss='categorical_crossentropy', metrics = ['accuracy'])\n",
        "early_stopping_callback = EarlyStopping(monitor = 'val_loss', patience = 5)\n",
        "history = model.fit(X_train, y_train, batch_size = 20, epochs = 200, validation_data=(X_test, y_test), callbacks=[early_stopping_callback])"
      ],
      "metadata": {
        "colab": {
          "base_uri": "https://localhost:8080/",
          "height": 0
        },
        "id": "CiVN4RRVXQHb",
        "outputId": "fda49e8b-f14d-4869-d329-69179f4b84ff"
      },
      "execution_count": 7,
      "outputs": [
        {
          "output_type": "stream",
          "name": "stdout",
          "text": [
            "Epoch 1/200\n",
            "450/450 [==============================] - 12s 10ms/step - loss: 2.2727 - accuracy: 0.4178 - val_loss: 2.2590 - val_accuracy: 0.4822\n",
            "Epoch 2/200\n",
            "450/450 [==============================] - 4s 8ms/step - loss: 1.7670 - accuracy: 0.5508 - val_loss: 1.7144 - val_accuracy: 0.5744\n",
            "Epoch 3/200\n",
            "450/450 [==============================] - 4s 8ms/step - loss: 1.5971 - accuracy: 0.5912 - val_loss: 1.5598 - val_accuracy: 0.6091\n",
            "Epoch 4/200\n",
            "450/450 [==============================] - 4s 8ms/step - loss: 1.4200 - accuracy: 0.6395 - val_loss: 1.4254 - val_accuracy: 0.6398\n",
            "Epoch 5/200\n",
            "450/450 [==============================] - 4s 8ms/step - loss: 1.2578 - accuracy: 0.6860 - val_loss: 1.3283 - val_accuracy: 0.6647\n",
            "Epoch 6/200\n",
            "450/450 [==============================] - 4s 8ms/step - loss: 1.1282 - accuracy: 0.7190 - val_loss: 1.2267 - val_accuracy: 0.6941\n",
            "Epoch 7/200\n",
            "450/450 [==============================] - 4s 9ms/step - loss: 1.0280 - accuracy: 0.7407 - val_loss: 1.1861 - val_accuracy: 0.7079\n",
            "Epoch 8/200\n",
            "450/450 [==============================] - 4s 8ms/step - loss: 0.9456 - accuracy: 0.7613 - val_loss: 1.1598 - val_accuracy: 0.7057\n",
            "Epoch 9/200\n",
            "450/450 [==============================] - 4s 8ms/step - loss: 0.8777 - accuracy: 0.7759 - val_loss: 1.1282 - val_accuracy: 0.7164\n",
            "Epoch 10/200\n",
            "450/450 [==============================] - 4s 9ms/step - loss: 0.8118 - accuracy: 0.7927 - val_loss: 1.1322 - val_accuracy: 0.7231\n",
            "Epoch 11/200\n",
            "450/450 [==============================] - 4s 9ms/step - loss: 0.7455 - accuracy: 0.8100 - val_loss: 1.1633 - val_accuracy: 0.7186\n",
            "Epoch 12/200\n",
            "450/450 [==============================] - 4s 8ms/step - loss: 0.6961 - accuracy: 0.8232 - val_loss: 1.1645 - val_accuracy: 0.7119\n",
            "Epoch 13/200\n",
            "450/450 [==============================] - 4s 9ms/step - loss: 0.6396 - accuracy: 0.8392 - val_loss: 1.2050 - val_accuracy: 0.7115\n",
            "Epoch 14/200\n",
            "450/450 [==============================] - 4s 8ms/step - loss: 0.5930 - accuracy: 0.8489 - val_loss: 1.2230 - val_accuracy: 0.7137\n"
          ]
        }
      ]
    },
    {
      "cell_type": "code",
      "source": [
        "print('Test Accuracy: %.4f' % (model.evaluate(X_test, y_test)[1]))"
      ],
      "metadata": {
        "colab": {
          "base_uri": "https://localhost:8080/",
          "height": 0
        },
        "id": "Vmc0ncUAZvcY",
        "outputId": "e9ba4ed8-0996-48b0-db81-5f17063c128f"
      },
      "execution_count": 8,
      "outputs": [
        {
          "output_type": "stream",
          "name": "stdout",
          "text": [
            "71/71 [==============================] - 0s 6ms/step - loss: 1.2230 - accuracy: 0.7137\n",
            "Test Accuracy: 0.7137\n"
          ]
        }
      ]
    },
    {
      "cell_type": "code",
      "source": [
        "y_vloss = history.history['val_loss']\n",
        "y_loss = history.history['loss']"
      ],
      "metadata": {
        "id": "ztJEaoRTZ-a2"
      },
      "execution_count": 9,
      "outputs": []
    },
    {
      "cell_type": "code",
      "source": [
        "x_len = np.arange(len(y_loss))\n",
        "plt.plot(x_len, y_vloss, marker='.', c='red', label = 'Testset_loss')\n",
        "plt.plot(x_len, y_loss, marker='.', c='blue', label = 'Testset_loss')\n",
        "plt.legend(loc='upper right')\n",
        "plt.grid()\n",
        "plt.xlabel('epoch')\n",
        "plt.ylabel('loss')\n",
        "plt.show()"
      ],
      "metadata": {
        "colab": {
          "base_uri": "https://localhost:8080/",
          "height": 279
        },
        "id": "-PbYjDV-aKEM",
        "outputId": "f296e639-03c0-4ba5-8d2c-044adce7ee7d"
      },
      "execution_count": 14,
      "outputs": [
        {
          "output_type": "display_data",
          "data": {
            "text/plain": [
              "<Figure size 432x288 with 1 Axes>"
            ],
            "image/png": "[encoded data removed]"
          },
          "metadata": {
            "needs_background": "light"
          }
        }
      ]
    }
  ]
}