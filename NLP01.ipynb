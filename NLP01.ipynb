{
  "nbformat": 4,
  "nbformat_minor": 0,
  "metadata": {
    "colab": {
      "name": "NLP01.ipynb",
      "provenance": [],
      "collapsed_sections": []
    },
    "kernelspec": {
      "name": "python3",
      "display_name": "Python 3"
    },
    "language_info": {
      "name": "python"
    }
  },
  "cells": [
    {
      "cell_type": "code",
      "execution_count": null,
      "metadata": {
        "id": "wfAQxBz0ylYK"
      },
      "outputs": [],
      "source": [
        "from tensorflow.keras.preprocessing.text import text_to_word_sequence, Tokenizer\n",
        "from tensorflow.keras.utils import to_categorical"
      ]
    },
    {
      "cell_type": "code",
      "source": [
        "text = '해보지 않으면 해낼 수 없다'\n",
        "result = text_to_word_sequence(text)\n",
        "print('\\n origin:\\n', text)\n",
        "print('\\n token:\\n', result)"
      ],
      "metadata": {
        "colab": {
          "base_uri": "https://localhost:8080/"
        },
        "id": "OtjL8bzzzGLX",
        "outputId": "db257074-776b-4939-ca70-4f97bd3ac379"
      },
      "execution_count": null,
      "outputs": [
        {
          "output_type": "stream",
          "name": "stdout",
          "text": [
            "\n",
            " origin:\n",
            " 해보지 않으면 해낼 수 없다\n",
            "\n",
            " token:\n",
            " ['해보지', '않으면', '해낼', '수', '없다']\n"
          ]
        }
      ]
    },
    {
      "cell_type": "code",
      "source": [
        "docs = ['먼저 텍스트의 각 단어를 나누어 토큰화합니다.', \n",
        "        '텍스트의 단어로 토큰화해야 딥러닝에서 인식됩니다.', \n",
        "        '토큰화한 결과는 딥러닝에서 사용할 수 있습니다.']"
      ],
      "metadata": {
        "id": "yslKG5_Pzw1Y"
      },
      "execution_count": null,
      "outputs": []
    },
    {
      "cell_type": "code",
      "source": [
        "token = Tokenizer()\n",
        "token.fit_on_texts(docs)\n",
        "\n",
        "display('\\nWord count: \\n', token.word_counts)"
      ],
      "metadata": {
        "id": "SER4i0I00cxT",
        "colab": {
          "base_uri": "https://localhost:8080/",
          "height": 308
        },
        "outputId": "8467f5ad-4294-4cf5-8ebd-e4948f1ae3a8"
      },
      "execution_count": null,
      "outputs": [
        {
          "output_type": "display_data",
          "data": {
            "text/plain": [
              "'\\nWord count: \\n'"
            ],
            "application/vnd.google.colaboratory.intrinsic+json": {
              "type": "string"
            }
          },
          "metadata": {}
        },
        {
          "output_type": "display_data",
          "data": {
            "text/plain": [
              "OrderedDict([('먼저', 1),\n",
              "             ('텍스트의', 2),\n",
              "             ('각', 1),\n",
              "             ('단어를', 1),\n",
              "             ('나누어', 1),\n",
              "             ('토큰화합니다', 1),\n",
              "             ('단어로', 1),\n",
              "             ('토큰화해야', 1),\n",
              "             ('딥러닝에서', 2),\n",
              "             ('인식됩니다', 1),\n",
              "             ('토큰화한', 1),\n",
              "             ('결과는', 1),\n",
              "             ('사용할', 1),\n",
              "             ('수', 1),\n",
              "             ('있습니다', 1)])"
            ]
          },
          "metadata": {}
        }
      ]
    },
    {
      "cell_type": "code",
      "source": [
        "print('\\nDoc count:', token.document_count)"
      ],
      "metadata": {
        "colab": {
          "base_uri": "https://localhost:8080/"
        },
        "id": "XbUuUjmzY4kb",
        "outputId": "9ec5bc3d-bb15-45d6-ee84-564c307494d8"
      },
      "execution_count": null,
      "outputs": [
        {
          "output_type": "stream",
          "name": "stdout",
          "text": [
            "\n",
            "Doc count: 3\n"
          ]
        }
      ]
    },
    {
      "cell_type": "code",
      "source": [
        "display('\\n각 단어가 몇개의 문장에 포함되어있는가: \\n', token.word_docs)"
      ],
      "metadata": {
        "colab": {
          "base_uri": "https://localhost:8080/",
          "height": 326
        },
        "id": "_bl71R4QZVww",
        "outputId": "b13a9e84-2312-4fa3-85b8-2b4ed50701a3"
      },
      "execution_count": null,
      "outputs": [
        {
          "output_type": "display_data",
          "data": {
            "text/plain": [
              "'\\n각 단어가 몇개의 문장에 포함되어있는가: \\n'"
            ],
            "application/vnd.google.colaboratory.intrinsic+json": {
              "type": "string"
            }
          },
          "metadata": {}
        },
        {
          "output_type": "display_data",
          "data": {
            "text/plain": [
              "defaultdict(int,\n",
              "            {'각': 1,\n",
              "             '결과는': 1,\n",
              "             '나누어': 1,\n",
              "             '단어로': 1,\n",
              "             '단어를': 1,\n",
              "             '딥러닝에서': 2,\n",
              "             '먼저': 1,\n",
              "             '사용할': 1,\n",
              "             '수': 1,\n",
              "             '인식됩니다': 1,\n",
              "             '있습니다': 1,\n",
              "             '텍스트의': 2,\n",
              "             '토큰화한': 1,\n",
              "             '토큰화합니다': 1,\n",
              "             '토큰화해야': 1})"
            ]
          },
          "metadata": {}
        }
      ]
    },
    {
      "cell_type": "code",
      "source": [
        "display('각 단어에 매겨진 인덱스 값: \\n', token.word_index)"
      ],
      "metadata": {
        "colab": {
          "base_uri": "https://localhost:8080/",
          "height": 308
        },
        "id": "khH7BdCpaNTJ",
        "outputId": "e6283d74-2f09-45b8-c5da-2fb3b0cf0a2c"
      },
      "execution_count": null,
      "outputs": [
        {
          "output_type": "display_data",
          "data": {
            "text/plain": [
              "'각 단어에 매겨진 인덱스 값: \\n'"
            ],
            "application/vnd.google.colaboratory.intrinsic+json": {
              "type": "string"
            }
          },
          "metadata": {}
        },
        {
          "output_type": "display_data",
          "data": {
            "text/plain": [
              "{'각': 4,\n",
              " '결과는': 12,\n",
              " '나누어': 6,\n",
              " '단어로': 8,\n",
              " '단어를': 5,\n",
              " '딥러닝에서': 2,\n",
              " '먼저': 3,\n",
              " '사용할': 13,\n",
              " '수': 14,\n",
              " '인식됩니다': 10,\n",
              " '있습니다': 15,\n",
              " '텍스트의': 1,\n",
              " '토큰화한': 11,\n",
              " '토큰화합니다': 7,\n",
              " '토큰화해야': 9}"
            ]
          },
          "metadata": {}
        }
      ]
    },
    {
      "cell_type": "code",
      "source": [
        "text = '오랫동안 꿈꾸는 이는 그 꿈을 닮아간다'\n",
        "\n",
        "token = Tokenizer()\n",
        "token.fit_on_texts([text])\n",
        "print(token.word_index)"
      ],
      "metadata": {
        "colab": {
          "base_uri": "https://localhost:8080/"
        },
        "id": "N9XmvOIfemn3",
        "outputId": "52e27f3c-5bdf-46a4-ceab-5b36f72c7eda"
      },
      "execution_count": null,
      "outputs": [
        {
          "output_type": "stream",
          "name": "stdout",
          "text": [
            "{'오랫동안': 1, '꿈꾸는': 2, '이는': 3, '그': 4, '꿈을': 5, '닮아간다': 6}\n"
          ]
        }
      ]
    },
    {
      "cell_type": "code",
      "source": [
        "x = token.texts_to_sequences([text])\n",
        "print(x)"
      ],
      "metadata": {
        "colab": {
          "base_uri": "https://localhost:8080/"
        },
        "id": "gjSek-zaglMu",
        "outputId": "e6f227dc-aa23-4eb6-d9ea-6b6e0b686728"
      },
      "execution_count": null,
      "outputs": [
        {
          "output_type": "stream",
          "name": "stdout",
          "text": [
            "[[1, 2, 3, 4, 5, 6]]\n"
          ]
        }
      ]
    },
    {
      "cell_type": "code",
      "source": [
        "word_size = len(token.word_index) + 1\n",
        "x = to_categorical(x, num_classes = word_size)\n",
        "\n",
        "print(x)"
      ],
      "metadata": {
        "colab": {
          "base_uri": "https://localhost:8080/"
        },
        "id": "LxOepAamgwUe",
        "outputId": "848ddf28-4c7b-41b9-a18e-071591a10d3c"
      },
      "execution_count": null,
      "outputs": [
        {
          "output_type": "stream",
          "name": "stdout",
          "text": [
            "[[[0. 1. 0. 0. 0. 0. 0.]\n",
            "  [0. 0. 1. 0. 0. 0. 0.]\n",
            "  [0. 0. 0. 1. 0. 0. 0.]\n",
            "  [0. 0. 0. 0. 1. 0. 0.]\n",
            "  [0. 0. 0. 0. 0. 1. 0.]\n",
            "  [0. 0. 0. 0. 0. 0. 1.]]]\n"
          ]
        }
      ]
    },
    {
      "cell_type": "code",
      "source": [
        ""
      ],
      "metadata": {
        "id": "WOQg_J7MjEW-"
      },
      "execution_count": null,
      "outputs": []
    }
  ]
}