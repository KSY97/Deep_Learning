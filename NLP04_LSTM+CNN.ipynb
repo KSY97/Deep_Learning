{
  "nbformat": 4,
  "nbformat_minor": 0,
  "metadata": {
    "colab": {
      "name": "NLP04_LSTM+CNN.ipynb",
      "provenance": []
    },
    "kernelspec": {
      "name": "python3",
      "display_name": "Python 3"
    },
    "language_info": {
      "name": "python"
    },
    "accelerator": "GPU",
    "gpuClass": "standard"
  },
  "cells": [
    {
      "cell_type": "code",
      "execution_count": 1,
      "metadata": {
        "id": "C8yt3I5hoMh3"
      },
      "outputs": [],
      "source": [
        "from tensorflow.keras.models import Sequential\n",
        "from tensorflow.keras.layers import Dense, Dropout, Activation, Embedding, LSTM, Conv1D, MaxPooling1D\n",
        "from tensorflow.keras.datasets import imdb\n",
        "from tensorflow.keras.preprocessing import sequence\n",
        "from tensorflow.keras.callbacks import EarlyStopping\n",
        "\n",
        "import numpy as np\n",
        "import matplotlib.pyplot as plt"
      ]
    },
    {
      "cell_type": "code",
      "source": [
        "(X_train, y_train), (X_test, y_test) = imdb.load_data(num_words = 5000)\n",
        "\n",
        "X_train = sequence.pad_sequences(X_train, maxlen = 500)\n",
        "X_test = sequence.pad_sequences(X_test, maxlen = 500)"
      ],
      "metadata": {
        "id": "pIvb5_seopR-"
      },
      "execution_count": 8,
      "outputs": []
    },
    {
      "cell_type": "code",
      "source": [
        "model = Sequential()\n",
        "model.add(Embedding(5000, 100))\n",
        "model.add(Dropout(0.5))\n",
        "model.add(Conv1D(64, 5, padding='valid', activation = 'relu', strides = 1))\n",
        "model.add(MaxPooling1D(pool_size=4))\n",
        "model.add(LSTM(55))\n",
        "model.add(Dense(1))\n",
        "model.add(Activation('sigmoid'))"
      ],
      "metadata": {
        "id": "d8840CoXo9Cv"
      },
      "execution_count": 9,
      "outputs": []
    },
    {
      "cell_type": "code",
      "source": [
        "model.compile(loss='binary_crossentropy', optimizer='adam', metrics=['accuracy'])\n",
        "early_stopping_callback = EarlyStopping(monitor='val_loss', patience=3)\n",
        "history = model.fit(X_train, y_train, batch_size=40, epochs = 100,\n",
        "                    validation_split=0.25, callbacks=[early_stopping_callback])"
      ],
      "metadata": {
        "colab": {
          "base_uri": "https://localhost:8080/"
        },
        "id": "CKV8Fub8pdyL",
        "outputId": "330211a8-825e-4654-fd97-c1c985738d67"
      },
      "execution_count": 10,
      "outputs": [
        {
          "output_type": "stream",
          "name": "stdout",
          "text": [
            "Epoch 1/100\n",
            "469/469 [==============================] - 9s 15ms/step - loss: 0.4070 - accuracy: 0.8002 - val_loss: 0.3074 - val_accuracy: 0.8701\n",
            "Epoch 2/100\n",
            "469/469 [==============================] - 6s 13ms/step - loss: 0.2383 - accuracy: 0.9071 - val_loss: 0.2762 - val_accuracy: 0.8891\n",
            "Epoch 3/100\n",
            "469/469 [==============================] - 6s 12ms/step - loss: 0.1895 - accuracy: 0.9294 - val_loss: 0.2794 - val_accuracy: 0.8893\n",
            "Epoch 4/100\n",
            "469/469 [==============================] - 6s 12ms/step - loss: 0.1480 - accuracy: 0.9448 - val_loss: 0.3080 - val_accuracy: 0.8842\n",
            "Epoch 5/100\n",
            "469/469 [==============================] - 6s 14ms/step - loss: 0.1130 - accuracy: 0.9602 - val_loss: 0.3462 - val_accuracy: 0.8790\n"
          ]
        }
      ]
    },
    {
      "cell_type": "code",
      "source": [
        "print('Test Accuracy: %.4f' % (model.evaluate(X_test, y_test)[0]))"
      ],
      "metadata": {
        "colab": {
          "base_uri": "https://localhost:8080/"
        },
        "id": "gzyILkD7p4fZ",
        "outputId": "cb899d90-40b1-4ea1-91c4-9ba36391cff5"
      },
      "execution_count": 13,
      "outputs": [
        {
          "output_type": "stream",
          "name": "stdout",
          "text": [
            "782/782 [==============================] - 4s 5ms/step - loss: 0.3630 - accuracy: 0.8694\n",
            "Test Accuracy: 0.3630\n"
          ]
        }
      ]
    },
    {
      "cell_type": "code",
      "source": [
        "y_vloss = history.history['val_loss']\n",
        "y_loss = history.history['loss']\n",
        "\n",
        "x_len = np.arange(len(y_loss))\n",
        "plt.plot(x_len, y_vloss, marker='.', c='red', label='Valset_loss')\n",
        "plt.plot(x_len, y_loss, marker='.', c='blue', label='Trainset_loss')\n",
        "\n",
        "plt.legend(loc='upper right')\n",
        "plt.grid()\n",
        "plt.xlabel('epoch')\n",
        "plt.ylabel('loss')\n",
        "plt.show()"
      ],
      "metadata": {
        "colab": {
          "base_uri": "https://localhost:8080/",
          "height": 279
        },
        "id": "RybKQgdhqSnZ",
        "outputId": "7f0500b9-6bcd-4143-b90a-fe5ef1acb0e6"
      },
      "execution_count": 12,
      "outputs": [
        {
          "output_type": "display_data",
          "data": {
            "text/plain": [
              "<Figure size 432x288 with 1 Axes>"
            ],
            "image/png": "[encoded data removed]"
          },
          "metadata": {
            "needs_background": "light"
          }
        }
      ]
    },
    {
      "cell_type": "code",
      "source": [
        ""
      ],
      "metadata": {
        "id": "hRDkMIywq5zT"
      },
      "execution_count": 12,
      "outputs": []
    }
  ]
}