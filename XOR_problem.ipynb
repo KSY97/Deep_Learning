{
  "nbformat": 4,
  "nbformat_minor": 0,
  "metadata": {
    "colab": {
      "name": "XOR problem.ipynb",
      "provenance": []
    },
    "kernelspec": {
      "name": "python3",
      "display_name": "Python 3"
    },
    "language_info": {
      "name": "python"
    }
  },
  "cells": [
    {
      "cell_type": "code",
      "execution_count": null,
      "metadata": {
        "id": "nF5pVMKT2taI"
      },
      "outputs": [],
      "source": [
        "import numpy as np\n",
        "\n",
        "w11 = np.array([-2, -2])\n",
        "w12 = np.array([2, 2])\n",
        "w2 = np.array([1, 1])\n",
        "b1 = 3\n",
        "b2 = -1\n",
        "b3 = -1"
      ]
    },
    {
      "cell_type": "code",
      "source": [
        "def MLP(x, w, b):\n",
        "  y = np.sum(w * x) + b\n",
        "  if y <= 0:\n",
        "    return 0\n",
        "  else:\n",
        "    return 1"
      ],
      "metadata": {
        "id": "BwxIzkVUHErO"
      },
      "execution_count": null,
      "outputs": []
    },
    {
      "cell_type": "code",
      "source": [
        "# NAND 게이트\n",
        "def NAND(x1, x2):\n",
        "  return MLP(np.array([x1, x2]), w11, b1)\n",
        "\n",
        "# OR 게이트\n",
        "def OR(x1, x2):\n",
        "  return MLP(np.array([x1, x2]), w12, b2)\n",
        "\n",
        "# AND 게이트\n",
        "def AND(x1, x2):\n",
        "  return MLP(np.array([x1, x2]), w2, b3)\n",
        "\n",
        "# XOR 게이트\n",
        "def XOR(x1, x2):\n",
        "  return AND(NAND(x1, x2), OR(x1, x2))"
      ],
      "metadata": {
        "id": "RXF4_5hpHbLc"
      },
      "execution_count": null,
      "outputs": []
    },
    {
      "cell_type": "code",
      "source": [
        "for x in [(0, 0), (1, 0), (0, 1), (1, 1)]:\n",
        "  y = XOR(x[0], x[1])\n",
        "  print('입력값: '+ str(x) +\" 출력값: \"+ str(y))"
      ],
      "metadata": {
        "colab": {
          "base_uri": "https://localhost:8080/"
        },
        "id": "qGlojeFWIRlP",
        "outputId": "ca98dbda-5caf-4b29-9d6a-dc1240305aaa"
      },
      "execution_count": null,
      "outputs": [
        {
          "output_type": "stream",
          "name": "stdout",
          "text": [
            "입력값: (0, 0) 출력값: 0\n",
            "입력값: (1, 0) 출력값: 1\n",
            "입력값: (0, 1) 출력값: 1\n",
            "입력값: (1, 1) 출력값: 0\n"
          ]
        }
      ]
    },
    {
      "cell_type": "code",
      "source": [
        ""
      ],
      "metadata": {
        "id": "KXNVpVGTIp6P"
      },
      "execution_count": null,
      "outputs": []
    }
  ]
}